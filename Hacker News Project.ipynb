{
 "cells": [
  {
   "cell_type": "markdown",
   "metadata": {
    "collapsed": true
   },
   "source": [
    "# Hacker News Project "
   ]
  },
  {
   "cell_type": "markdown",
   "metadata": {},
   "source": [
    "In this project, we will be analyzing Hacker News data to see which posts (Ask HN or Show HN) receive more comments on average. We will also be looking to the timing of these posts to see if there are better times to post than others. "
   ]
  },
  {
   "cell_type": "markdown",
   "metadata": {},
   "source": [
    "First, lets read our data and remove headers!"
   ]
  },
  {
   "cell_type": "code",
   "execution_count": 1,
   "metadata": {},
   "outputs": [
    {
     "name": "stdout",
     "output_type": "stream",
     "text": [
      "[['id', 'title', 'url', 'num_points', 'num_comments', 'author', 'created_at'], ['12224879', 'Interactive Dynamic Video', 'http://www.interactivedynamicvideo.com/', '386', '52', 'ne0phyte', '8/4/2016 11:52'], ['10975351', 'How to Use Open Source and Shut the Fuck Up at the Same Time', 'http://hueniverse.com/2016/01/26/how-to-use-open-source-and-shut-the-fuck-up-at-the-same-time/', '39', '10', 'josep2', '1/26/2016 19:30'], ['11964716', \"Florida DJs May Face Felony for April Fools' Water Joke\", 'http://www.thewire.com/entertainment/2013/04/florida-djs-april-fools-water-joke/63798/', '2', '1', 'vezycash', '6/23/2016 22:20'], ['11919867', 'Technology ventures: From Idea to Enterprise', 'https://www.amazon.com/Technology-Ventures-Enterprise-Thomas-Byers/dp/0073523429', '3', '1', 'hswarna', '6/17/2016 0:01']]\n"
     ]
    }
   ],
   "source": [
    "from csv import reader\n",
    "opened_file=open('hacker_news.csv')\n",
    "read_file=reader(opened_file)\n",
    "hm=list(read_file)\n",
    "print(hm[:5])\n"
   ]
  },
  {
   "cell_type": "code",
   "execution_count": 2,
   "metadata": {
    "collapsed": true
   },
   "outputs": [],
   "source": [
    "headers=hm[0]"
   ]
  },
  {
   "cell_type": "code",
   "execution_count": 3,
   "metadata": {},
   "outputs": [
    {
     "name": "stdout",
     "output_type": "stream",
     "text": [
      "['id', 'title', 'url', 'num_points', 'num_comments', 'author', 'created_at']\n"
     ]
    }
   ],
   "source": [
    "print(headers)"
   ]
  },
  {
   "cell_type": "code",
   "execution_count": 4,
   "metadata": {
    "collapsed": true
   },
   "outputs": [],
   "source": [
    "hn=hm[1:]"
   ]
  },
  {
   "cell_type": "code",
   "execution_count": 5,
   "metadata": {},
   "outputs": [
    {
     "name": "stdout",
     "output_type": "stream",
     "text": [
      "[['12224879', 'Interactive Dynamic Video', 'http://www.interactivedynamicvideo.com/', '386', '52', 'ne0phyte', '8/4/2016 11:52'], ['10975351', 'How to Use Open Source and Shut the Fuck Up at the Same Time', 'http://hueniverse.com/2016/01/26/how-to-use-open-source-and-shut-the-fuck-up-at-the-same-time/', '39', '10', 'josep2', '1/26/2016 19:30'], ['11964716', \"Florida DJs May Face Felony for April Fools' Water Joke\", 'http://www.thewire.com/entertainment/2013/04/florida-djs-april-fools-water-joke/63798/', '2', '1', 'vezycash', '6/23/2016 22:20'], ['11919867', 'Technology ventures: From Idea to Enterprise', 'https://www.amazon.com/Technology-Ventures-Enterprise-Thomas-Byers/dp/0073523429', '3', '1', 'hswarna', '6/17/2016 0:01'], ['10301696', 'Note by Note: The Making of Steinway L1037 (2007)', 'http://www.nytimes.com/2007/11/07/movies/07stein.html?_r=0', '8', '2', 'walterbell', '9/30/2015 4:12']]\n"
     ]
    }
   ],
   "source": [
    "print(hn[:5])"
   ]
  },
  {
   "cell_type": "markdown",
   "metadata": {},
   "source": [
    "Above we printed the first five rows of the dataset without headers. "
   ]
  },
  {
   "cell_type": "code",
   "execution_count": 6,
   "metadata": {},
   "outputs": [
    {
     "name": "stdout",
     "output_type": "stream",
     "text": [
      "1744\n",
      "1162\n",
      "18938\n"
     ]
    }
   ],
   "source": [
    "ask_posts=[]\n",
    "show_posts=[]\n",
    "other_posts=[]\n",
    "\n",
    "for row in hn: \n",
    "    title=row[1]\n",
    "    title=title.lower()\n",
    "    if title.startswith('ask hn'):\n",
    "        ask_posts.append(row)\n",
    "    \n",
    "    if title.startswith('show hn'):\n",
    "        show_posts.append(row)\n",
    "    \n",
    "    else:\n",
    "        other_posts.append(row)\n",
    "            \n",
    "print(len(ask_posts))\n",
    "print(len(show_posts))\n",
    "print(len(other_posts))\n",
    "     "
   ]
  },
  {
   "cell_type": "markdown",
   "metadata": {
    "collapsed": true
   },
   "source": [
    "Above, we created three lists and appended posts that start with \"ask hn\" to one, \"show hn\" to another, and other for the last. "
   ]
  },
  {
   "cell_type": "code",
   "execution_count": 7,
   "metadata": {},
   "outputs": [
    {
     "name": "stdout",
     "output_type": "stream",
     "text": [
      "14.038417431192661\n"
     ]
    }
   ],
   "source": [
    "#calculating the average number of comments on ask posts \n",
    "\n",
    "total_ask_comments=0\n",
    "for row in ask_posts:\n",
    "    num_comments=row[4]\n",
    "    num_comments=int(num_comments)\n",
    "    total_ask_comments+=num_comments\n",
    "\n",
    "avg_ask_comments=total_ask_comments/len(ask_posts)    \n",
    "print(avg_ask_comments)\n"
   ]
  },
  {
   "cell_type": "code",
   "execution_count": 8,
   "metadata": {},
   "outputs": [
    {
     "name": "stdout",
     "output_type": "stream",
     "text": [
      "10.31669535283993\n"
     ]
    }
   ],
   "source": [
    "#calculating the average number of comments on show posts \n",
    "total_show_comments=0\n",
    "for row in show_posts:\n",
    "    num_comments=row[4]\n",
    "    num_comments=int(num_comments)\n",
    "    total_show_comments += num_comments\n",
    "    \n",
    "avg_show_comments=total_show_comments/len(show_posts)    \n",
    "print(avg_show_comments)\n"
   ]
  },
  {
   "cell_type": "markdown",
   "metadata": {},
   "source": [
    "We can see that ask posts on average have more comments than show posts, on average. We'll focus our analysis on the ask posts. "
   ]
  },
  {
   "cell_type": "code",
   "execution_count": 9,
   "metadata": {},
   "outputs": [],
   "source": [
    "result_list=[]\n",
    "for row in ask_posts:\n",
    "    created_at=row[6]\n",
    "    num_comments=row[4]\n",
    "    num_comments=int(num_comments)\n",
    "    result_list.append([created_at,num_comments])\n"
   ]
  },
  {
   "cell_type": "code",
   "execution_count": 10,
   "metadata": {},
   "outputs": [],
   "source": [
    "import datetime as dt\n",
    "counts_by_hour={}\n",
    "comments_by_hour={}\n",
    "\n",
    "for row in result_list:\n",
    "    date=row[0]\n",
    "    comment=row[1]\n",
    "    date_object=dt.datetime.strptime(date,\"%m/%d/%Y %H:%M\")\n",
    "    date_string_hour=date_object.strftime(\"%H\")\n",
    "    if date_string_hour not in counts_by_hour:\n",
    "        counts_by_hour[date_string_hour]=1\n",
    "    else:\n",
    "        counts_by_hour[date_string_hour]+=1\n",
    "    \n",
    "    \n",
    "    if date_string_hour not in comments_by_hour:\n",
    "        comments_by_hour[date_string_hour]=comment\n",
    "    else: \n",
    "        comments_by_hour[date_string_hour]+=comment\n",
    "               "
   ]
  },
  {
   "cell_type": "code",
   "execution_count": 11,
   "metadata": {},
   "outputs": [
    {
     "name": "stdout",
     "output_type": "stream",
     "text": [
      "{'17': 100, '23': 68, '13': 85, '03': 54, '09': 45, '04': 47, '14': 107, '19': 110, '00': 55, '20': 80, '11': 58, '08': 48, '06': 44, '10': 59, '22': 71, '12': 73, '02': 58, '16': 108, '18': 109, '07': 34, '21': 109, '05': 46, '15': 116, '01': 60}\n"
     ]
    }
   ],
   "source": [
    "print (counts_by_hour)"
   ]
  },
  {
   "cell_type": "code",
   "execution_count": 12,
   "metadata": {},
   "outputs": [
    {
     "name": "stdout",
     "output_type": "stream",
     "text": [
      "{'17': 1146, '23': 543, '13': 1253, '03': 421, '09': 251, '04': 337, '14': 1416, '19': 1188, '00': 447, '20': 1722, '11': 641, '08': 492, '06': 397, '10': 793, '22': 479, '12': 687, '02': 1381, '16': 1814, '18': 1439, '07': 267, '21': 1745, '05': 464, '15': 4477, '01': 683}\n"
     ]
    }
   ],
   "source": [
    "print (comments_by_hour)"
   ]
  },
  {
   "cell_type": "markdown",
   "metadata": {},
   "source": [
    "Above, we printed the counts_by_hour list and comments_by_hour list to see what it looks like. "
   ]
  },
  {
   "cell_type": "code",
   "execution_count": 13,
   "metadata": {},
   "outputs": [],
   "source": [
    "avg_by_hour=[]\n",
    "for hour in comments_by_hour:\n",
    "    avg_by_hour.append([hour,\n",
    "comments_by_hour[hour]/counts_by_hour[hour]])\n",
    "    "
   ]
  },
  {
   "cell_type": "code",
   "execution_count": 14,
   "metadata": {},
   "outputs": [
    {
     "name": "stdout",
     "output_type": "stream",
     "text": [
      "[['17', 11.46], ['23', 7.985294117647059], ['13', 14.741176470588234], ['03', 7.796296296296297], ['09', 5.5777777777777775], ['04', 7.170212765957447], ['14', 13.233644859813085], ['19', 10.8], ['00', 8.127272727272727], ['20', 21.525], ['11', 11.051724137931034], ['08', 10.25], ['06', 9.022727272727273], ['10', 13.440677966101696], ['22', 6.746478873239437], ['12', 9.41095890410959], ['02', 23.810344827586206], ['16', 16.796296296296298], ['18', 13.20183486238532], ['07', 7.852941176470588], ['21', 16.009174311926607], ['05', 10.08695652173913], ['15', 38.5948275862069], ['01', 11.383333333333333]]\n"
     ]
    }
   ],
   "source": [
    "print(avg_by_hour)"
   ]
  },
  {
   "cell_type": "code",
   "execution_count": 15,
   "metadata": {},
   "outputs": [
    {
     "name": "stdout",
     "output_type": "stream",
     "text": [
      "[[11.46, '17'], [7.985294117647059, '23'], [14.741176470588234, '13'], [7.796296296296297, '03'], [5.5777777777777775, '09'], [7.170212765957447, '04'], [13.233644859813085, '14'], [10.8, '19'], [8.127272727272727, '00'], [21.525, '20'], [11.051724137931034, '11'], [10.25, '08'], [9.022727272727273, '06'], [13.440677966101696, '10'], [6.746478873239437, '22'], [9.41095890410959, '12'], [23.810344827586206, '02'], [16.796296296296298, '16'], [13.20183486238532, '18'], [7.852941176470588, '07'], [16.009174311926607, '21'], [10.08695652173913, '05'], [38.5948275862069, '15'], [11.383333333333333, '01']]\n"
     ]
    }
   ],
   "source": [
    "swap_avg_by_hour=[]\n",
    "for row in avg_by_hour:\n",
    "    swap_avg_by_hour.append([row[1],row[0]])\n",
    "\n",
    "    \n",
    "print (swap_avg_by_hour)"
   ]
  },
  {
   "cell_type": "code",
   "execution_count": 16,
   "metadata": {},
   "outputs": [],
   "source": [
    "sorted_swap=sorted(swap_avg_by_hour,reverse=True)"
   ]
  },
  {
   "cell_type": "code",
   "execution_count": 24,
   "metadata": {},
   "outputs": [
    {
     "name": "stdout",
     "output_type": "stream",
     "text": [
      "Top 5 Hours for Ask Post COmments\n",
      " 15:00 38.59 average comments per post\n",
      " 02:00 23.81 average comments per post\n",
      " 20:00 21.52 average comments per post\n",
      " 16:00 16.80 average comments per post\n",
      " 21:00 16.01 average comments per post\n"
     ]
    }
   ],
   "source": [
    "import datetime as dt \n",
    "print (\"Top 5 Hours for Ask Post COmments\")\n",
    "for avg, hour in sorted_swap[:5]:\n",
    "    date_time_object= dt.datetime.strptime(hour,\"%H\")\n",
    "    date=dt.datetime.strftime(date_time_object,\"%H:%M\")\n",
    "    output= \" {} {:.2f} average comments per post\".format (date,avg)\n",
    "    print (output)"
   ]
  },
  {
   "cell_type": "markdown",
   "metadata": {
    "collapsed": true
   },
   "source": [
    "Above, we can see the best times to post to get the most comments on an ask post. It seems as though we should be posting at 1pm Pacific time ( 3pm eastern.) "
   ]
  },
  {
   "cell_type": "code",
   "execution_count": null,
   "metadata": {},
   "outputs": [],
   "source": []
  }
 ],
 "metadata": {
  "kernelspec": {
   "display_name": "Python 3",
   "language": "python",
   "name": "python3"
  },
  "language_info": {
   "codemirror_mode": {
    "name": "ipython",
    "version": 3
   },
   "file_extension": ".py",
   "mimetype": "text/x-python",
   "name": "python",
   "nbconvert_exporter": "python",
   "pygments_lexer": "ipython3",
   "version": "3.7.6"
  }
 },
 "nbformat": 4,
 "nbformat_minor": 2
}
